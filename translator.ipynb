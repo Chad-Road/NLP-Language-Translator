{
 "cells": [
  {
   "cell_type": "code",
   "execution_count": 1,
   "metadata": {},
   "outputs": [],
   "source": [
    "from transformers import AutoTokenizer, AutoModelForCausalLM\n",
    "from transformers import __version__ as trans_version\n",
    "import torch "
   ]
  },
  {
   "cell_type": "code",
   "execution_count": 2,
   "metadata": {},
   "outputs": [],
   "source": [
    "# torch.set_default_tensor_type(torch.cuda.FloatTensor)"
   ]
  },
  {
   "cell_type": "markdown",
   "metadata": {},
   "source": [
    "## Checking transformers version\n",
    "Most of the modules that interact with the BLOOM module require transformers verions 4.2 or above"
   ]
  },
  {
   "cell_type": "code",
   "execution_count": 3,
   "metadata": {},
   "outputs": [
    {
     "name": "stdout",
     "output_type": "stream",
     "text": [
      "4.22.0.dev0\n"
     ]
    }
   ],
   "source": [
    "print(trans_version)"
   ]
  },
  {
   "cell_type": "markdown",
   "metadata": {},
   "source": [
    "## Tokenizers and models\n",
    "AutoTokenizer and AutoModel can download the pretrained models from hugging face hub.\n",
    "CasualLM simplifies some of the requirements for indexing and tensors"
   ]
  },
  {
   "cell_type": "code",
   "execution_count": 4,
   "metadata": {},
   "outputs": [],
   "source": [
    "tokenizer = AutoTokenizer.from_pretrained(\"bigscience/bloom-7b1\")\n",
    "\n",
    "model = AutoModelForCausalLM.from_pretrained(\"bigscience/bloom-7b1\")\n"
   ]
  },
  {
   "cell_type": "markdown",
   "metadata": {},
   "source": [
    "### Checking loaded model  \n",
    "Double checking that the correct model loaded and that the model loaded properly"
   ]
  },
  {
   "cell_type": "code",
   "execution_count": 5,
   "metadata": {},
   "outputs": [
    {
     "data": {
      "text/plain": [
       "'BloomForCausalLM'"
      ]
     },
     "execution_count": 5,
     "metadata": {},
     "output_type": "execute_result"
    }
   ],
   "source": [
    "model.__class__.__name__"
   ]
  },
  {
   "cell_type": "markdown",
   "metadata": {},
   "source": [
    "## Prompts and prompt engieering\n",
    "Given that language models just predict the next most likely tokens given the previous tokens,\n",
    "choosing the correct prompt for the desired output requires a bit of experience. For example,\n"
   ]
  },
  {
   "cell_type": "code",
   "execution_count": 10,
   "metadata": {},
   "outputs": [],
   "source": [
    "prompt = \"\"\"English: I am a student.\n",
    "French:\"\"\""
   ]
  },
  {
   "cell_type": "code",
   "execution_count": 11,
   "metadata": {},
   "outputs": [],
   "source": [
    "input = tokenizer(prompt, return_tensors=\"pt\")"
   ]
  },
  {
   "cell_type": "code",
   "execution_count": 12,
   "metadata": {},
   "outputs": [],
   "source": [
    "output = model.generate(**input, max_length=200, num_beams=2, no_repeat_ngram_size=2, early_stopping=True)"
   ]
  },
  {
   "cell_type": "code",
   "execution_count": 13,
   "metadata": {},
   "outputs": [
    {
     "name": "stdout",
     "output_type": "stream",
     "text": [
      "English: I am a student.\n",
      "French: Je suis un étudiant.\n",
      "Spanish: Yo soy un estudiante.\n",
      "Portuguese: Eu sou um estudante.\n",
      "Italian: Io sono un studente.\n",
      "Dutch: Ik ben een student.\n",
      "Polish: Jako studenta.\n",
      "Swedish: Jo är ett studenter.\n",
      "Danish: Je er en student.\n",
      "Norwegian: Jeg er et studenten.\n",
      "Finnish: Tämä on studenskap.\n",
      "Estonian: Eestestudenti.\n",
      "Lithuanian: Lietuvių studentių.\n",
      "Bulgarian: Български електронски студенти.\n",
      "Russian: русский студиент.\n",
      "Ukrainian: Українська енергетика.\n",
      "Greek: Ελληνικό επιστήμιο.\n",
      "Latvia: Latviešu valstybės.\n",
      "Hungary: Magyar szinténi\n"
     ]
    }
   ],
   "source": [
    "print(tokenizer.decode(output[0]))"
   ]
  }
 ],
 "metadata": {
  "kernelspec": {
   "display_name": "Python 3.8.13",
   "language": "python",
   "name": "python3"
  },
  "language_info": {
   "codemirror_mode": {
    "name": "ipython",
    "version": 3
   },
   "file_extension": ".py",
   "mimetype": "text/x-python",
   "name": "python",
   "nbconvert_exporter": "python",
   "pygments_lexer": "ipython3",
   "version": "3.8.13"
  },
  "orig_nbformat": 4,
  "vscode": {
   "interpreter": {
    "hash": "c9863aaacdf44e486c6a893cb405d6222718f8a5f2914b2269202d74e2ff0f14"
   }
  }
 },
 "nbformat": 4,
 "nbformat_minor": 2
}
